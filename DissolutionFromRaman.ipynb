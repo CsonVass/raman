{
  "nbformat": 4,
  "nbformat_minor": 0,
  "metadata": {
    "colab": {
      "provenance": [],
      "collapsed_sections": [],
      "mount_file_id": "1zoN8R4FdpU1_F6l5elccLReYOvt8Cfse",
      "authorship_tag": "ABX9TyM6oUSKQoCFMO+kbo4AL9zy",
      "include_colab_link": true
    },
    "kernelspec": {
      "name": "python3",
      "display_name": "Python 3"
    },
    "language_info": {
      "name": "python"
    },
    "accelerator": "GPU"
  },
  "cells": [
    {
      "cell_type": "markdown",
      "metadata": {
        "id": "view-in-github",
        "colab_type": "text"
      },
      "source": [
        "<a href=\"https://colab.research.google.com/github/CsonVass/raman/blob/main/DissolutionFromRaman.ipynb\" target=\"_parent\"><img src=\"https://colab.research.google.com/assets/colab-badge.svg\" alt=\"Open In Colab\"/></a>"
      ]
    },
    {
      "cell_type": "code",
      "source": [
        "# import tensorflow as tf\n",
        "# tf.test.gpu_device_name()"
      ],
      "metadata": {
        "id": "z9yEcW6Rjf8m"
      },
      "execution_count": 27,
      "outputs": []
    },
    {
      "cell_type": "code",
      "source": [
        "# from tensorflow.python.client import device_lib\n",
        "# device_lib.list_local_devices()"
      ],
      "metadata": {
        "id": "JG9BvdDuk98G"
      },
      "execution_count": 28,
      "outputs": []
    },
    {
      "cell_type": "code",
      "source": [
        "# !cat /proc/cpuinfo"
      ],
      "metadata": {
        "id": "tL_UdCLKljRO"
      },
      "execution_count": 29,
      "outputs": []
    },
    {
      "cell_type": "code",
      "source": [
        "!pip install -q keras\n",
        "!pip install -q scikit-learn==0.23.1"
      ],
      "metadata": {
        "id": "udUYhHFkmcQ9"
      },
      "execution_count": 30,
      "outputs": []
    },
    {
      "cell_type": "code",
      "source": [
        "import numpy as np\n",
        "import matplotlib.pyplot as plt\n",
        "import pandas as pd\n",
        "import os\n",
        "import tensorflow as tf\n",
        "from sklearn.model_selection import train_test_split"
      ],
      "metadata": {
        "id": "dLSRMq_gmlfT"
      },
      "execution_count": 31,
      "outputs": []
    },
    {
      "cell_type": "code",
      "source": [
        "# hpmcMaps = []\n",
        "# dataset = pd.read_csv('/content/drive/MyDrive/Colab Notebooks/Raman/hpmc/c/DR_C01A-component-2.csv', header=None)\n"
      ],
      "metadata": {
        "id": "6_L31i1jm3i8"
      },
      "execution_count": 32,
      "outputs": []
    },
    {
      "cell_type": "code",
      "source": [
        "map_curve_pairs = {}\n",
        "missing = []\n",
        "path_to_hpmc_c = '/content/drive/MyDrive/Colab Notebooks/Raman/hpmc/c'\n",
        "path_to_hpmc_v = '/content/drive/MyDrive/Colab Notebooks/Raman/hpmc/v'\n",
        "\n",
        "paths = [path_to_hpmc_c, path_to_hpmc_v]\n",
        "\n",
        "for path in paths:\n",
        "  dir_list = os.listdir(path)\n",
        "  for f in dir_list: \n",
        "    path_to_map = path + '/' + f\n",
        "    map_name = f.split('-')[0].split('_')[1]\n",
        "    map_curve_pairs[map_name] = {}\n",
        "    map_csv = pd.read_csv(path_to_map, header=None)\n",
        "    if len(map_csv.index) == 1:\n",
        "      tmp = []\n",
        "      for i in range(0, 31*31, 31):\n",
        "        tmp.append([map_csv.iloc[0:1, i:i+31].values])\n",
        "      map_csv = pd.DataFrame(tmp)\n",
        "    map_curve_pairs[map_name]['map'] = map_csv\n",
        "\n",
        "dissolutionCureves = []\n",
        "curves_csv = pd.read_csv('/content/drive/MyDrive/Colab Notebooks/Raman/Tablettak_minden_adat.csv', header=None)\n",
        "names = curves_csv.iloc[0:1, 1:]\n",
        "time = curves_csv.iloc[4:,0:1]\n",
        "curve_points = curves_csv.iloc[4:,1:].apply(lambda x: x.str.replace(',','.'))\n",
        "for i in range(len(curve_points.columns)):\n",
        "    curve_i = curve_points.iloc[:, i:i+1]\n",
        "    if(names.iloc[0,i] in map_curve_pairs):\n",
        "      map_curve_pairs[names.iloc[0,i]]['curve'] = np.asarray(curve_i).T.astype(np.float32)\n",
        "    else: \n",
        "      missing.append(names.iloc[0,i])\n",
        "\n",
        "mcp_cpy = map_curve_pairs.copy()\n",
        "for name in mcp_cpy:\n",
        "  if not 'curve' in map_curve_pairs[name] or len(map_curve_pairs[name]['map']) != 31:\n",
        "    missing.append(map_curve_pairs[name])\n",
        "    map_curve_pairs.pop(name)  "
      ],
      "metadata": {
        "id": "TAROz5M6d2Ff"
      },
      "execution_count": 237,
      "outputs": []
    },
    {
      "cell_type": "code",
      "source": [
        "x = []\n",
        "y = []\n",
        "keys = []\n",
        "\n",
        "for key in sorted(map_curve_pairs):\n",
        "  x.append(np.array(map_curve_pairs[key]['map']))\n",
        "  y.append(map_curve_pairs[key]['curve'])\n",
        "  \n",
        "x_train, x_test, y_train, y_test = train_test_split(x, y)\n"
      ],
      "metadata": {
        "id": "lbsMp93fQQnw"
      },
      "execution_count": 247,
      "outputs": []
    },
    {
      "cell_type": "code",
      "source": [
        "from tensorflow.python.ops.nn_ops import softmax\n",
        "model = tf.keras.models.Sequential()\n",
        "model.add(tf.keras.layers.Flatten())\n",
        "model.add(tf.keras.layers.Dense(128, activation=tf.nn.relu))\n",
        "model.add(tf.keras.layers.Dense(128, activation=tf.nn.relu))\n",
        "model.add(tf.keras.layers.Dense(37, activation=tf.nn.softmax))\n",
        "\n",
        "model.compile(optimizer=tf.keras.optimizers.Adam(),\n",
        "              loss=tf.keras.losses.SparseCategoricalCrossentropy(from_logits= True), \n",
        "              metrics = [tf.keras.metrics.Accuracy()])\n",
        "\n",
        "model.fit(x_train, y_train, epochs=3)"
      ],
      "metadata": {
        "id": "59OBR5ZHiNc_"
      },
      "execution_count": null,
      "outputs": []
    }
  ]
}