{
  "nbformat": 4,
  "nbformat_minor": 0,
  "metadata": {
    "colab": {
      "provenance": [],
      "collapsed_sections": [],
      "mount_file_id": "1zoN8R4FdpU1_F6l5elccLReYOvt8Cfse",
      "authorship_tag": "ABX9TyPKG7K/uO3GNWGh/7PjSz97",
      "include_colab_link": true
    },
    "kernelspec": {
      "name": "python3",
      "display_name": "Python 3"
    },
    "language_info": {
      "name": "python"
    },
    "accelerator": "GPU"
  },
  "cells": [
    {
      "cell_type": "markdown",
      "metadata": {
        "id": "view-in-github",
        "colab_type": "text"
      },
      "source": [
        "<a href=\"https://colab.research.google.com/github/CsonVass/raman/blob/main/DissolutionFromRaman.ipynb\" target=\"_parent\"><img src=\"https://colab.research.google.com/assets/colab-badge.svg\" alt=\"Open In Colab\"/></a>"
      ]
    },
    {
      "cell_type": "code",
      "source": [
        "# import tensorflow as tf\n",
        "# tf.test.gpu_device_name()"
      ],
      "metadata": {
        "id": "z9yEcW6Rjf8m"
      },
      "execution_count": 1,
      "outputs": []
    },
    {
      "cell_type": "code",
      "source": [
        "# from tensorflow.python.client import device_lib\n",
        "# device_lib.list_local_devices()"
      ],
      "metadata": {
        "id": "JG9BvdDuk98G"
      },
      "execution_count": 2,
      "outputs": []
    },
    {
      "cell_type": "code",
      "source": [
        "# !cat /proc/cpuinfo"
      ],
      "metadata": {
        "id": "tL_UdCLKljRO"
      },
      "execution_count": 3,
      "outputs": []
    },
    {
      "cell_type": "code",
      "source": [
        "!pip install -q keras\n",
        "!pip install -q scikit-learn==0.23.1"
      ],
      "metadata": {
        "id": "udUYhHFkmcQ9",
        "colab": {
          "base_uri": "https://localhost:8080/"
        },
        "outputId": "7768d020-466f-4aec-b8be-f6716094349b"
      },
      "execution_count": 16,
      "outputs": [
        {
          "output_type": "stream",
          "name": "stdout",
          "text": [
            "Looking in indexes: https://pypi.org/simple, https://us-python.pkg.dev/colab-wheels/public/simple/\n",
            "Requirement already satisfied: scikit-learn==0.23.1 in /usr/local/lib/python3.7/dist-packages (0.23.1)\n",
            "Requirement already satisfied: scipy>=0.19.1 in /usr/local/lib/python3.7/dist-packages (from scikit-learn==0.23.1) (1.7.3)\n",
            "Requirement already satisfied: threadpoolctl>=2.0.0 in /usr/local/lib/python3.7/dist-packages (from scikit-learn==0.23.1) (3.1.0)\n",
            "Requirement already satisfied: numpy>=1.13.3 in /usr/local/lib/python3.7/dist-packages (from scikit-learn==0.23.1) (1.21.6)\n",
            "Requirement already satisfied: joblib>=0.11 in /usr/local/lib/python3.7/dist-packages (from scikit-learn==0.23.1) (1.2.0)\n"
          ]
        }
      ]
    },
    {
      "cell_type": "code",
      "source": [
        "import numpy as np\n",
        "import matplotlib.pyplot as plt\n",
        "import pandas as pd\n",
        "import os"
      ],
      "metadata": {
        "id": "dLSRMq_gmlfT"
      },
      "execution_count": 5,
      "outputs": []
    },
    {
      "cell_type": "code",
      "source": [
        "# hpmcMaps = []\n",
        "# dataset = pd.read_csv('/content/drive/MyDrive/Colab Notebooks/Raman/hpmc/c/DR_C01A-component-2.csv', header=None)\n"
      ],
      "metadata": {
        "id": "6_L31i1jm3i8"
      },
      "execution_count": 6,
      "outputs": []
    },
    {
      "cell_type": "code",
      "source": [
        "map_curve_pairs = {}\n",
        "missing = []\n",
        "path_to_hpmc_c = '/content/drive/MyDrive/Colab Notebooks/Raman/hpmc/c'\n",
        "dir_list = os.listdir(path_to_hpmc_c)\n",
        "for f in dir_list: \n",
        "  path_to_map = path_to_hpmc_c + '/' + f\n",
        "  map_name = f.split('-')[0].split('_')[1]\n",
        "  map_curve_pairs[map_name] = {}\n",
        "  map_curve_pairs[map_name]['map'] = pd.read_csv(path_to_map, header=None)\n",
        "\n",
        "path_to_hpmc_v = '/content/drive/MyDrive/Colab Notebooks/Raman/hpmc/v'\n",
        "dir_list = os.listdir(path_to_hpmc_v)\n",
        "for f in dir_list: \n",
        "  path_to_map = path_to_hpmc_v + '/' + f\n",
        "  map_name = f.split('-')[0].split('_')[1]\n",
        "  map_curve_pairs[map_name] = {}\n",
        "  map_curve_pairs[map_name]['map'] = pd.read_csv(path_to_map, header=None)\n",
        "\n",
        "dissolutionCureves = []\n",
        "curves_csv = pd.read_csv('/content/drive/MyDrive/Colab Notebooks/Raman/Tablettak_minden_adat.csv', header=None)\n",
        "names = curves_csv.iloc[0:1, 1:]\n",
        "time = curves_csv.iloc[4:,0:1]\n",
        "curve_points = curves_csv.iloc[4:,1:]\n",
        "for i in range(len(curve_points.columns)):\n",
        "    curve_i = curve_points.iloc[:, i:i+1]\n",
        "    if(names.iloc[0,i] in map_curve_pairs):\n",
        "      map_curve_pairs[names.iloc[0,i]]['curve'] = curve_i\n",
        "    else: \n",
        "      missing.append(names.iloc[0,i])\n"
      ],
      "metadata": {
        "id": "TAROz5M6d2Ff"
      },
      "execution_count": null,
      "outputs": []
    },
    {
      "cell_type": "code",
      "source": [
        "import tensorflow as tf\n",
        "import numpy as np\n",
        "from sklearn.model_selection import train_test_split\n",
        "\n",
        "\n",
        "\n"
      ],
      "metadata": {
        "id": "EKFC5271guvh"
      },
      "execution_count": null,
      "outputs": []
    }
  ]
}