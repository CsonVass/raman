{
  "cells": [
    {
      "cell_type": "markdown",
      "metadata": {
        "id": "view-in-github",
        "colab_type": "text"
      },
      "source": [
        "<a href=\"https://colab.research.google.com/github/CsonVass/raman/blob/main/DissolutionFromRaman.ipynb\" target=\"_parent\"><img src=\"https://colab.research.google.com/assets/colab-badge.svg\" alt=\"Open In Colab\"/></a>"
      ]
    },
    {
      "cell_type": "markdown",
      "source": [
        "<div class=\"markdown-google-sans\">\n",
        "\n",
        "# <strong>Előkészítés</strong>\n",
        "</div>\n"
      ],
      "metadata": {
        "id": "nxf80-33uACM"
      }
    },
    {
      "cell_type": "markdown",
      "source": [
        "<div class=\"markdown-google-sans\">\n",
        "\n",
        "## <strong>Szükséges könyvátrak importálása</strong>\n",
        "</div>\n"
      ],
      "metadata": {
        "id": "us3Eg612UPGM"
      }
    },
    {
      "cell_type": "code",
      "execution_count": 127,
      "metadata": {
        "id": "dLSRMq_gmlfT"
      },
      "outputs": [],
      "source": [
        "import math\n",
        "import matplotlib.pyplot as plt\n",
        "import numpy as np\n",
        "import os\n",
        "import pandas as pd\n",
        "import tensorflow as tf\n",
        "from keras import layers\n",
        "from matplotlib.backends.backend_pdf import PdfPages\n",
        "from sklearn.model_selection import train_test_split\n",
        "from tensorflow.python.ops.nn_ops import softmax"
      ]
    },
    {
      "cell_type": "markdown",
      "source": [
        "<div class=\"markdown-google-sans\">\n",
        "\n",
        "## <strong>Raman térképek és kioldódási görbék importálása Google Drive tárhelyről</strong>\n",
        "</div>\n",
        "\n",
        "* <u>map_curve_pairs</u>: Szótár a Raman térképek és kioldódási görbék párosításához \n",
        "* <u>missing</u>: Esetleges hiányzó/rossz formátumban lévő adatokat helyezzük ebbe a tömbbe. Ezek az adatok nem kerülnek felhasználásra egyáltalán (jelenleg nem kerül ide semmi)"
      ],
      "metadata": {
        "id": "Y8LtdAnqU_tD"
      }
    },
    {
      "cell_type": "code",
      "execution_count": 14,
      "metadata": {
        "id": "TAROz5M6d2Ff"
      },
      "outputs": [],
      "source": [
        "map_curve_pairs = {}\n",
        "missing = []\n",
        "path_to_hpmc = '/content/drive/MyDrive/Colab Notebooks/Raman/maps'\n",
        "\n",
        "dir_list = os.listdir(path_to_hpmc)\n",
        "for f in dir_list: \n",
        "  path_to_map = path_to_hpmc + '/' + f\n",
        "  map_name = f.split('-')[0].split('_')[1]\n",
        "  map_curve_pairs[map_name] = {}\n",
        "  map_csv = pd.read_csv(path_to_map, header=None)\n",
        "  if len(map_csv.index) == 1:\n",
        "    tmp = []\n",
        "    for i in range(0, 31*31, 31):\n",
        "      tmp.append([map_csv.iloc[0:1, i:i+31].values])\n",
        "    map_csv = pd.DataFrame(tmp)\n",
        "  map_curve_pairs[map_name]['map'] = tf.reshape(tf.convert_to_tensor(map_csv, tf.float32), [31, 31])\n",
        "\n",
        "dissolutionCureves = []\n",
        "curves_csv = pd.read_csv('/content/drive/MyDrive/Colab Notebooks/Raman/Tablettak_minden_adat.csv', header=None)\n",
        "names = curves_csv.iloc[0:1, 1:]\n",
        "time = curves_csv.iloc[4:,0:1]\n",
        "curve_points = curves_csv.iloc[4:,1:].apply(lambda x: x.str.replace(',','.'))\n",
        "for i in range(len(curve_points.columns)):\n",
        "    curve_i = curve_points.iloc[:, i:i+1]\n",
        "    if(names.iloc[0,i] in map_curve_pairs):\n",
        "      map_curve_pairs[names.iloc[0,i]]['curve'] = tf.reshape(tf.convert_to_tensor(curve_i, tf.float32), [1, 37])\n",
        "    else: \n",
        "      missing.append(names.iloc[0,i])\n",
        "\n",
        "mcp_cpy = map_curve_pairs.copy()\n",
        "for name in mcp_cpy:\n",
        "  if not 'curve' in map_curve_pairs[name] or len(map_curve_pairs[name]['map']) != 31:\n",
        "    missing.append(map_curve_pairs[name])\n",
        "    map_curve_pairs.pop(name)  "
      ]
    },
    {
      "cell_type": "markdown",
      "source": [
        "<div class=\"markdown-google-sans\">\n",
        "\n",
        "## <strong>Beolvasott adatok felbontása tanító és ellenőrző halmazokra</strong>\n",
        "</div>\n",
        "\n",
        "A görbe értékek normalizálása 0-100 intervallumról 0-1 intervallumra"
      ],
      "metadata": {
        "id": "yfiycVwbWFAk"
      }
    },
    {
      "cell_type": "code",
      "execution_count": 15,
      "metadata": {
        "id": "lbsMp93fQQnw"
      },
      "outputs": [],
      "source": [
        "x = []\n",
        "y = []\n",
        "keys = []\n",
        "\n",
        "for key in sorted(map_curve_pairs):\n",
        " x.append(map_curve_pairs[key]['map'])\n",
        " y.append(map_curve_pairs[key]['curve'])\n",
        "\n",
        "y = [y_ / 100 for y_ in y]\n",
        "\n",
        "\n",
        "x_train, x_test, y_train, y_test = train_test_split(x, y)\n",
        "\n",
        "x_train = np.array(x_train)\n",
        "y_train = np.array(y_train)\n",
        "\n",
        "y_train = y_train.reshape((108, 37))\n",
        "\n",
        "x_test = np.array(x_test)\n",
        "y_test = np.array(y_test)\n",
        "\n",
        "y_test = y_test.reshape((36, 37))"
      ]
    },
    {
      "cell_type": "markdown",
      "source": [
        "<div class=\"markdown-google-sans\">\n",
        "\n",
        "# <strong>Neurális hálók</strong>\n",
        "</div>\n",
        "\n",
        "A hálók felépítéséhez a Sequential API-t használjuk, amely intuitívabb a Funtional API-nál, viszont kevésbé testreszabható.\n",
        "A hálók bemenetei réteg neuronjai a Raman térképek 31x31 pixelei, a kimentei layer a kioldódási görbe pontjai.\n",
        "\n",
        "A hálókat lehet importálni Google Drive-ról, létrehozni újakat és menteni őket szintén Google Drive-ra."
      ],
      "metadata": {
        "id": "DcwAWPKNWf28"
      }
    },
    {
      "cell_type": "markdown",
      "source": [
        "<div class=\"markdown-google-sans\">\n",
        "\n",
        "## <strong>Kiértékelést segítő függvények</strong>\n",
        "</div>\n",
        "\n",
        "* <u>model_loss_value</u>: Visszaadja a model loss értékét\n",
        "* <u>accuracy_for_one</u>: Visszaadja egy test-re vett pontosságát a modellnek\n",
        "* <u>accuracy_for_all</u>: Visszaadja a test-esetek átlagot pontosságát\n",
        "* <u>visualize_results</u>: Kirajzolja egymásra az elvárt (kék) és számított (piros) eredményeket "
      ],
      "metadata": {
        "id": "e29hQs7BcEUN"
      }
    },
    {
      "cell_type": "code",
      "source": [
        "def model_loss_value(model, x_, y_):\n",
        "  score = model.evaluate(x_, y_, verbose=0)\n",
        "  return score\n",
        "\n",
        "def accuracy_for_one(test_, pre_):\n",
        "  s = 0\n",
        "  for i in range(len(pre_)):\n",
        "    s = s + (test_[i] - pre_[i]) ** 2\n",
        "   \n",
        "  f2 = 50 * math.log(((1 + 1/len(pre_) * s) ** -0.5)*100,10)\n",
        "  return f2\n",
        "\n",
        "def accuracy_for_all(test_, pre_):\n",
        "  f = 0\n",
        "  for i in range(len(pre_)):\n",
        "    f = f + accuracy_for_one(test_[i], pre_[i])\n",
        "  \n",
        "  f2 = f / len(pre_)\n",
        "\n",
        "  return f2\n",
        "\n",
        "def visualize_results(time_, test_, pre_):\n",
        "  x1 = np.array(time_).flatten()\n",
        "  for t in range(len(test_)):  \n",
        "    y1 = test_[t]\n",
        "    if t % 2 == 0:\n",
        "      plt.figure()\n",
        "    plt.subplot(1, 2, t%2+1)\n",
        "\n",
        "    plt.tick_params(  \n",
        "      which='both',      \n",
        "      bottom=True,      \n",
        "      top=False,         \n",
        "      left = True,\n",
        "      right = False,\n",
        "      labelbottom=True,\n",
        "      labelleft=True,\n",
        "      labelsize=5)\n",
        "        \n",
        "    plt.title('Accuracy')\n",
        "    plt.ylabel('dissolution')\n",
        "    plt.xlabel('time')\n",
        "    plt.plot(x1, y1)\n",
        "    plt.plot(x1, pre_[t], color=\"red\")\n",
        "    plt.legend(['measureed', 'predicted'], loc='upper left')\n",
        "    plt.grid()\n",
        "    plt.xticks(x1[0::5])\n",
        "\n",
        "def save_results_graph(time_, test_, pre_, fileName):\n",
        "  pp = PdfPages(\"drive/MyDrive/Colab Notebooks/saved_model/\" + fileName + \"/results.pdf\") \n",
        "  x1 = np.array(time_).flatten()\n",
        "  for t in range(len(test_)):  \n",
        "    y1 = test_[t]\n",
        "    if t % 2 == 0:\n",
        "      plt.figure()\n",
        "    plt.subplot(1, 2, t%2+1)\n",
        "\n",
        "    plt.tick_params(  \n",
        "      which='both',      \n",
        "      bottom=True,      \n",
        "      top=False,         \n",
        "      left = True,\n",
        "      right = False,\n",
        "      labelbottom=True,\n",
        "      labelleft=True,\n",
        "      labelsize=5)\n",
        "        \n",
        "    plt.title('Accuracy')\n",
        "    plt.ylabel('dissolution')\n",
        "    plt.xlabel('time')\n",
        "    plt.plot(x1, y1)\n",
        "    plt.plot(x1, pre_[t], color=\"red\")\n",
        "    plt.legend(['measureed', 'predicted'], loc='upper left')\n",
        "    plt.grid()\n",
        "    plt.xticks(x1[0::5])\n",
        "    if t % 2 == 1:\n",
        "      plt.savefig(pp, format='pdf')\n",
        "  pp.close()\n",
        "\n",
        "def visualize_loss(history):\n",
        "  plt.plot(history.history['loss'])\n",
        "  plt.plot(history.history['val_loss'])\n",
        "  plt.title('model loss')\n",
        "  plt.ylabel('loss')\n",
        "  plt.xlabel('epoch')\n",
        "  plt.legend(['train', 'test'], loc='upper left')\n",
        "  plt.grid()\n",
        "\n",
        "def save_loss_graph(history, fileName):\n",
        "  visualize_loss(history)\n",
        "  plt.savefig(\"drive/MyDrive/Colab Notebooks/saved_model/\" + fileName + \"/loss.png\")\n",
        "  "
      ],
      "metadata": {
        "id": "PHJHi8J-dg3T"
      },
      "execution_count": 157,
      "outputs": []
    },
    {
      "cell_type": "markdown",
      "source": [
        "<div class=\"markdown-google-sans\">\n",
        "\n",
        "## <strong>Modell beállítása</strong>\n",
        "</div>\n"
      ],
      "metadata": {
        "id": "QAIaumfPuT11"
      }
    },
    {
      "cell_type": "markdown",
      "source": [
        "<div class=\"markdown-google-sans\">\n",
        "\n",
        "### <strong>Importálás Google Drive tárhelyről</strong>\n",
        "</div>"
      ],
      "metadata": {
        "id": "yEuECuV1a-aE"
      }
    },
    {
      "cell_type": "code",
      "source": [
        "model_name = input('Enter a name for the model: ')\n",
        "path_to_model = 'drive/MyDrive/Colab Notebooks/saved_model/' + model_name + '/model'\n",
        "model = tf.keras.models.load_model(path_to_model)"
      ],
      "metadata": {
        "colab": {
          "base_uri": "https://localhost:8080/"
        },
        "id": "wOBJI9sAbMVl",
        "outputId": "14768f5e-c023-4260-fbc2-007ca4a95ee3"
      },
      "execution_count": 85,
      "outputs": [
        {
          "name": "stdout",
          "output_type": "stream",
          "text": [
            "Enter a name for the model: cnn_1\n"
          ]
        }
      ]
    },
    {
      "cell_type": "markdown",
      "source": [
        "<div class=\"markdown-google-sans\">\n",
        "\n",
        "### <strong>Felépítése</strong>\n",
        "</div>"
      ],
      "metadata": {
        "id": "DFbMBNzdWner"
      }
    },
    {
      "cell_type": "markdown",
      "source": [
        "<div class=\"markdown-google-sans\">\n",
        "\n",
        "#### <strong>CNN 1</strong>\n",
        "</div>"
      ],
      "metadata": {
        "id": "uTUa-rUkXnDX"
      }
    },
    {
      "cell_type": "code",
      "execution_count": null,
      "metadata": {
        "id": "59OBR5ZHiNc_"
      },
      "outputs": [],
      "source": [
        "model = tf.keras.models.Sequential()\n",
        "model.add(layers.Conv2D(input_shape=(31, 31, 1), filters=64, kernel_size=(3, 3), activation=\"relu\"))\n",
        "model.add(layers.MaxPool2D((2,2), strides=(2,2)))\n",
        "model.add(layers.Conv2D(input_shape=(31, 31, 1), filters=64, kernel_size=(3, 3), activation=\"relu\"))\n",
        "model.add(layers.MaxPool2D((2,2), strides=(2,2)))\n",
        "model.add(layers.Flatten())\n",
        "model.add(layers.Dropout(0.5))\n",
        "model.add(layers.Dense(37, activation=\"relu\"))\n",
        "\n",
        "model.compile(optimizer=\"adam\",\n",
        "              loss=\"mean_squared_logarithmic_error\", \n",
        "               metrics=[])"
      ]
    },
    {
      "cell_type": "markdown",
      "source": [
        "<div class=\"markdown-google-sans\">\n",
        "\n",
        "#### <strong>Dense 1</strong>\n",
        "</div>"
      ],
      "metadata": {
        "id": "3yr9z9sYpH88"
      }
    },
    {
      "cell_type": "code",
      "source": [
        "model = tf.keras.models.Sequential()\n",
        "model.add(layers.Flatten())\n",
        "model.add(layers.Dense(50, activation=\"relu\"))\n",
        "model.add(layers.Dense(50, activation=\"relu\"))\n",
        "model.add(layers.Dense(50, activation=\"relu\"))\n",
        "model.add(layers.Dropout(0.5))\n",
        "model.add(layers.Dense(37, activation=\"relu\"))\n",
        "\n",
        "model.compile(optimizer=\"adam\",\n",
        "              loss=\"mean_squared_logarithmic_error\", \n",
        "               metrics=[])"
      ],
      "metadata": {
        "id": "ZQTIl8rNoSw4"
      },
      "execution_count": 77,
      "outputs": []
    },
    {
      "cell_type": "markdown",
      "source": [
        "<div class=\"markdown-google-sans\">\n",
        "\n",
        "## <strong>Tanítás</strong>\n",
        "</div>"
      ],
      "metadata": {
        "id": "QpiOL8c-XrS8"
      }
    },
    {
      "cell_type": "markdown",
      "source": [
        "<div class=\"markdown-google-sans\">\n",
        "\n",
        "### <strong>Modell tanítása</strong>\n",
        "</div>\n"
      ],
      "metadata": {
        "id": "au4WtXwbvPRo"
      }
    },
    {
      "cell_type": "code",
      "source": [
        "history = model.fit(x_train, y_train, validation_split=0.33, batch_size=10, epochs=100,\n",
        "          verbose=0)"
      ],
      "metadata": {
        "id": "R_8u6gJ9XuXs"
      },
      "execution_count": 86,
      "outputs": []
    },
    {
      "cell_type": "markdown",
      "source": [
        "<div class=\"markdown-google-sans\">\n",
        "\n",
        "### <strong>Modell mentése Google Drive tárhelyre</strong>\n",
        "</div>\n"
      ],
      "metadata": {
        "id": "SqRgSUjXZucK"
      }
    },
    {
      "cell_type": "code",
      "source": [
        "model_name = input('Enter a name for the model: ')\n",
        "path_to_model = 'drive/MyDrive/Colab Notebooks/saved_model/' + model_name + '/model'\n",
        "model.save(path_to_model) "
      ],
      "metadata": {
        "colab": {
          "base_uri": "https://localhost:8080/"
        },
        "id": "JUmA29YiZtsC",
        "outputId": "d768d992-08e7-4fee-8cb5-2d743c18422b"
      },
      "execution_count": 99,
      "outputs": [
        {
          "name": "stdout",
          "output_type": "stream",
          "text": [
            "Enter a name for the model: test\n"
          ]
        },
        {
          "output_type": "stream",
          "name": "stderr",
          "text": [
            "WARNING:absl:Found untraced functions such as _jit_compiled_convolution_op, _jit_compiled_convolution_op while saving (showing 2 of 2). These functions will not be directly callable after loading.\n"
          ]
        }
      ]
    },
    {
      "cell_type": "markdown",
      "source": [
        "<div class=\"markdown-google-sans\">\n",
        "\n",
        "## <strong>Értékelés</strong>\n",
        "</div>\n"
      ],
      "metadata": {
        "id": "kWBtiYzXvkQQ"
      }
    },
    {
      "cell_type": "markdown",
      "source": [
        "<div class=\"markdown-google-sans\">\n",
        "\n",
        "### <strong>Háló loss értékének kiszámítása a teszt adatok segítéségvel</strong>\n",
        "</div>"
      ],
      "metadata": {
        "id": "4f90fCitX3PV"
      }
    },
    {
      "cell_type": "code",
      "source": [
        "train_loss = model_loss_value(model, x_train, y_train) \n",
        "test_loss = model_loss_value(model, x_test, y_test)\n",
        "\n",
        "print(\"Train loss: {0}\".format(train_loss))\n",
        "print(\"Test loss: {0}\".format(test_loss))"
      ],
      "metadata": {
        "colab": {
          "base_uri": "https://localhost:8080/"
        },
        "id": "39qzLDVsM1FY",
        "outputId": "287c1af7-32ca-4cec-987e-8cb087f15904"
      },
      "execution_count": 160,
      "outputs": [
        {
          "output_type": "stream",
          "name": "stdout",
          "text": [
            "Train loss: 0.004128384403884411\n",
            "Test loss: 0.008509163744747639\n"
          ]
        }
      ]
    },
    {
      "cell_type": "markdown",
      "source": [
        "<div class=\"markdown-google-sans\">\n",
        "\n",
        "### <strong>Model eredményeinek visszaállítása 0-100 intervallumra </strong>\n",
        "</div>"
      ],
      "metadata": {
        "id": "H7XDChpNYJbN"
      }
    },
    {
      "cell_type": "code",
      "source": [
        "pre = model.predict(x_test)\n",
        "y_test100 = [y_ * 100 for y_ in y_test]\n",
        "pre100 = [p * 100 for p in pre]"
      ],
      "metadata": {
        "id": "Uiu57r9xKT3H"
      },
      "execution_count": null,
      "outputs": []
    },
    {
      "cell_type": "markdown",
      "source": [
        "<div class=\"markdown-google-sans\">\n",
        "\n",
        "### <strong>Tanítási és tesztelési loss értékek vizualizációja</strong>\n",
        "</div>\n"
      ],
      "metadata": {
        "id": "Ui1klYTGwLzI"
      }
    },
    {
      "cell_type": "code",
      "source": [
        "visualize_loss(history)"
      ],
      "metadata": {
        "id": "tBQuY3xnmQZC"
      },
      "execution_count": null,
      "outputs": []
    },
    {
      "cell_type": "markdown",
      "source": [
        "<div class=\"markdown-google-sans\">\n",
        "\n",
        "### <strong>Kioldódási görbék vizualizációja</strong>\n",
        "</div>\n"
      ],
      "metadata": {
        "id": "QeyUG-MZvxJi"
      }
    },
    {
      "cell_type": "code",
      "source": [
        "visualize_results(time, y_test100, pre100)"
      ],
      "metadata": {
        "id": "sOpGVPrdg1Cc"
      },
      "execution_count": null,
      "outputs": []
    },
    {
      "cell_type": "markdown",
      "source": [
        "<div class=\"markdown-google-sans\">\n",
        "\n",
        "### <strong>Pontosság kiszámítása</strong>\n",
        "</div>\n"
      ],
      "metadata": {
        "id": "MfdJ2sWawA9Q"
      }
    },
    {
      "cell_type": "code",
      "source": [
        "accuracy_for_all(y_test100, pre100)"
      ],
      "metadata": {
        "colab": {
          "base_uri": "https://localhost:8080/"
        },
        "id": "FUzpJzcxhEID",
        "outputId": "4f532ef1-d570-455c-f7ca-82420d40ea37"
      },
      "execution_count": 90,
      "outputs": [
        {
          "output_type": "execute_result",
          "data": {
            "text/plain": [
              "46.77552079339473"
            ]
          },
          "metadata": {},
          "execution_count": 90
        }
      ]
    },
    {
      "cell_type": "markdown",
      "source": [
        "<div class=\"markdown-google-sans\">\n",
        "\n",
        "## <strong>Statisztikák mentése</strong>\n",
        "</div>\n"
      ],
      "metadata": {
        "id": "yhG17R8FBVxO"
      }
    },
    {
      "cell_type": "markdown",
      "source": [
        "<div class=\"markdown-google-sans\">\n",
        "\n",
        "### <strong>Görbék</strong>\n",
        "</div>\n"
      ],
      "metadata": {
        "id": "r1M1fPFJBz-O"
      }
    },
    {
      "cell_type": "code",
      "source": [
        "if (model_name is None):\n",
        "  model_name = 'base'\n",
        "save_results_graph(time, y_test100, pre100, model_name)"
      ],
      "metadata": {
        "id": "Hz_D177c12Gg"
      },
      "execution_count": null,
      "outputs": []
    },
    {
      "cell_type": "code",
      "source": [
        "if (model_name is None):\n",
        "  model_name = 'base'\n",
        "save_loss_graph(history, model_name)"
      ],
      "metadata": {
        "id": "Lt96QwN_zJ0b"
      },
      "execution_count": null,
      "outputs": []
    },
    {
      "cell_type": "markdown",
      "source": [
        "<div class=\"markdown-google-sans\">\n",
        "\n",
        "### <strong>Értékek</strong>\n",
        "</div>\n"
      ],
      "metadata": {
        "id": "WTw49BS3B4cQ"
      }
    },
    {
      "cell_type": "code",
      "source": [
        "if (model_name is None):\n",
        "  model_name = 'base'\n",
        "with open('drive/MyDrive/Colab Notebooks/saved_model/' + model_name + '/details.txt', 'w') as writefile:\n",
        "    writefile.write(\"Accuracy (F2): {0}\".format(accuracy_for_all(y_test100, pre100)) + \"\\n\")\n",
        "    writefile.write(\"Train loss: {0}\".format(model_loss_value(model, x_train, y_train)) + \"\\n\")\n",
        "    writefile.write(\"Test loss: {0}\".format(model_loss_value(model, x_test, y_test)))"
      ],
      "metadata": {
        "id": "bzsMnIt3B9s5"
      },
      "execution_count": 162,
      "outputs": []
    }
  ],
  "metadata": {
    "accelerator": "GPU",
    "colab": {
      "collapsed_sections": [],
      "provenance": [],
      "toc_visible": true,
      "mount_file_id": "1zoN8R4FdpU1_F6l5elccLReYOvt8Cfse",
      "authorship_tag": "ABX9TyM3gOqxxpuwfwjfahyub2hi",
      "include_colab_link": true
    },
    "kernelspec": {
      "display_name": "Python 3",
      "name": "python3"
    },
    "language_info": {
      "name": "python"
    }
  },
  "nbformat": 4,
  "nbformat_minor": 0
}